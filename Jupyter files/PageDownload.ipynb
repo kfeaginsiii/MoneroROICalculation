{
 "cells": [
  {
   "cell_type": "code",
   "execution_count": null,
   "metadata": {},
   "outputs": [],
   "source": [
    "import bs4 as bs\n",
    "import requests as r\n",
    "import pandas as pd\n",
    "#combine functionality of html_to_table and table_to_df for reuse"
   ]
  },
  {
   "cell_type": "code",
   "execution_count": null,
   "metadata": {},
   "outputs": [],
   "source": [
    "def html_to_table(html_file):\n",
    "    soup = bs.BeautifulSoup(page,  \"html.parser\")\n",
    "    return soup.find(\"table\",{\"class\":\"cpulist\"})\n",
    "    del soup"
   ]
  },
  {
   "cell_type": "code",
   "execution_count": null,
   "metadata": {},
   "outputs": [],
   "source": [
    "def table_to_df(table):\n",
    "    headers = []\n",
    "    for th in table.find_all('th'):\n",
    "        headers.append(th.text)\n",
    "    temp_df = pd.DataFrame(columns = headers)\n",
    "    #data\n",
    "    temp = {}\n",
    "    for tbody in table.find_all('tbody'):\n",
    "        for tr in tbody.find_all('tr'):\n",
    "            tds = tr.find_all('td')\n",
    "            for col in range(5):\n",
    "                temp[headers[col]] = tds[col].text\n",
    "            temp_df = temp_df.append(temp, ignore_index = True)\n",
    "        #print(temp)\n",
    "    return temp_df\n",
    "    del temp_df, headers, temp"
   ]
  },
  {
   "cell_type": "code",
   "execution_count": null,
   "metadata": {},
   "outputs": [],
   "source": [
    "gpu_master_url = \"https://www.videocardbenchmark.net/gpu_list.php\" #this is a simple page, no need for selenium here"
   ]
  },
  {
   "cell_type": "code",
   "execution_count": null,
   "metadata": {},
   "outputs": [],
   "source": [
    "page = r.get(gpu_master_url).text"
   ]
  },
  {
   "cell_type": "code",
   "execution_count": null,
   "metadata": {},
   "outputs": [],
   "source": [
    "df = table_to_df(html_to_table(page))"
   ]
  },
  {
   "cell_type": "code",
   "execution_count": null,
   "metadata": {},
   "outputs": [],
   "source": [
    "print(df.info())"
   ]
  },
  {
   "cell_type": "code",
   "execution_count": null,
   "metadata": {},
   "outputs": [],
   "source": [
    "headers = []\n",
    "for th in table.find_all('th'):\n",
    "    headers.append(th.text)\n",
    "temp_df = pd.DataFrame(columns = headers)\n",
    "#data\n",
    "temp = {}\n",
    "for tbody in table.find_all('tbody'):\n",
    "    for tr in tbody.find_all('tr'):\n",
    "        tds = tr.find_all('td')\n",
    "        for col in range(5):\n",
    "            temp[headers[col]] = tds[col].text\n",
    "        temp_df = temp_df.append(temp, ignore_index = True)\n",
    "    #print(temp)\n",
    "return temp_df\n",
    "del temp_df, headers, temp"
   ]
  },
  {
   "cell_type": "code",
   "execution_count": null,
   "metadata": {},
   "outputs": [],
   "source": [
    "print(headers)"
   ]
  },
  {
   "cell_type": "code",
   "execution_count": null,
   "metadata": {},
   "outputs": [],
   "source": [
    "soup = bs.BeautifulSoup(page,  \"html.parser\")\n",
    "table = soup.find(\"table\",{\"class\":\"cpulist\"})\n",
    "print(table)"
   ]
  },
  {
   "cell_type": "code",
   "execution_count": null,
   "metadata": {},
   "outputs": [],
   "source": [
    "dir(table.find_all('tr'))"
   ]
  },
  {
   "cell_type": "code",
   "execution_count": null,
   "metadata": {},
   "outputs": [],
   "source": [
    "print(page)"
   ]
  },
  {
   "cell_type": "code",
   "execution_count": null,
   "metadata": {},
   "outputs": [],
   "source": []
  }
 ],
 "metadata": {
  "kernelspec": {
   "display_name": "Python 3",
   "language": "python",
   "name": "python3"
  },
  "language_info": {
   "codemirror_mode": {
    "name": "ipython",
    "version": 3
   },
   "file_extension": ".py",
   "mimetype": "text/x-python",
   "name": "python",
   "nbconvert_exporter": "python",
   "pygments_lexer": "ipython3",
   "version": "3.5.4"
  }
 },
 "nbformat": 4,
 "nbformat_minor": 2
}
