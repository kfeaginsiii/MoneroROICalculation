{
 "cells": [
  {
   "cell_type": "markdown",
   "metadata": {},
   "source": [
    "Install ebay sdk for ebay searching"
   ]
  },
  {
   "cell_type": "code",
   "execution_count": null,
   "metadata": {},
   "outputs": [],
   "source": [
    "#!pip install ebaysdk\n",
    "#!pip show --files ebaysdk "
   ]
  },
  {
   "cell_type": "code",
   "execution_count": 1,
   "metadata": {},
   "outputs": [],
   "source": [
    "import datetime\n",
    "#from ebaysdk import ConnectionError\n",
    "from ebaysdk.exception import ConnectionError\n",
    "from ebaysdk.finding import Connection\n",
    "appid = open(\"Data files\\\\EbaySearchAppid.txt\").read() #put your appid here"
   ]
  },
  {
   "cell_type": "code",
   "execution_count": 2,
   "metadata": {},
   "outputs": [],
   "source": [
    "try:\n",
    "    api = Connection(appid=appid, config_file=None)\n",
    "    response = api.execute('findCompletedItems', {'keywords': 'AMD Vega'})\n",
    "\n",
    "    assert(response.reply.ack == 'Success')\n",
    "    assert(type(response.reply.timestamp) == datetime.datetime)\n",
    "    assert(type(response.reply.searchResult.item) == list)\n",
    "\n",
    "    item = response.reply.searchResult.item[0]\n",
    "    assert(type(item.listingInfo.endTime) == datetime.datetime)\n",
    "    assert(type(response.dict()) == dict)\n",
    "\n",
    "except ConnectionError as e:\n",
    "    print(e)\n",
    "    print(e.response.dict())"
   ]
  },
  {
   "cell_type": "code",
   "execution_count": 3,
   "metadata": {},
   "outputs": [
    {
     "name": "stdout",
     "output_type": "stream",
     "text": [
      "{'returnsAccepted': 'false', 'shippingInfo': {'expeditedShipping': 'true', 'shipToLocations': 'Worldwide', 'shippingType': 'FreePickup', 'shippingServiceCost': {'_currencyId': 'USD', 'value': '0.0'}, 'handlingTime': '2', 'oneDayShippingAvailable': 'false'}, 'sellingStatus': {'sellingState': 'EndedWithSales', 'convertedCurrentPrice': {'_currencyId': 'USD', 'value': '899.99'}, 'currentPrice': {'_currencyId': 'USD', 'value': '899.99'}}, 'galleryURL': 'http://thumbs2.ebaystatic.com/m/myFrw6FM-IS6sUCk80TR3mA/140.jpg', 'itemId': '152855889669', 'postalCode': '62521', 'condition': {'conditionDisplayName': 'Used', 'conditionId': '3000'}, 'title': 'XFX - AMD Radeon RX Vega 56 8GB HBM2 PCI Express 3.0 Graphics Card', 'autoPay': 'false', 'globalId': 'EBAY-US', 'country': 'US', 'isMultiVariationListing': 'false', 'location': 'Decatur,IL,USA', 'paymentMethod': 'PayPal', 'primaryCategory': {'categoryId': '27386', 'categoryName': 'Graphics/Video Cards'}, 'viewItemURL': 'http://www.ebay.com/itm/XFX-AMD-Radeon-RX-Vega-56-8GB-HBM2-PCI-Express-3-0-Graphics-Card-/152855889669', 'topRatedListing': 'false', 'listingInfo': {'buyItNowAvailable': 'false', 'startTime': datetime.datetime(2018, 1, 6, 16, 52, 59), 'listingType': 'FixedPrice', 'gift': 'false', 'bestOfferEnabled': 'true', 'watchCount': '1', 'endTime': datetime.datetime(2018, 1, 7, 2, 30, 40)}}\n"
     ]
    }
   ],
   "source": [
    "print(item)"
   ]
  },
  {
   "cell_type": "code",
   "execution_count": null,
   "metadata": {},
   "outputs": [],
   "source": []
  }
 ],
 "metadata": {
  "kernelspec": {
   "display_name": "Python 3",
   "language": "python",
   "name": "python3"
  },
  "language_info": {
   "codemirror_mode": {
    "name": "ipython",
    "version": 3
   },
   "file_extension": ".py",
   "mimetype": "text/x-python",
   "name": "python",
   "nbconvert_exporter": "python",
   "pygments_lexer": "ipython3",
   "version": "3.5.4"
  }
 },
 "nbformat": 4,
 "nbformat_minor": 2
}
