{
 "cells": [
  {
   "cell_type": "markdown",
   "metadata": {},
   "source": [
    "Install ebay sdk for ebay searching"
   ]
  },
  {
   "cell_type": "code",
   "execution_count": null,
   "metadata": {},
   "outputs": [],
   "source": [
    "#!pip install ebaysdk\n",
    "#!pip show --files ebaysdk "
   ]
  },
  {
   "cell_type": "code",
   "execution_count": null,
   "metadata": {},
   "outputs": [],
   "source": [
    "import datetime\n",
    "#from ebaysdk import ConnectionError\n",
    "from ebaysdk.exception import ConnectionError\n",
    "from ebaysdk.finding import Connection\n",
    "appid = open(\"Data files\\\\EbaySearchAppid.txt\").read() #put your appid here"
   ]
  },
  {
   "cell_type": "code",
   "execution_count": null,
   "metadata": {},
   "outputs": [],
   "source": [
    "try:\n",
    "    api = Connection(appid=appid, config_file=None)\n",
    "    response = api.execute('findCompletedItems', {'keywords': 'AMD Vega'})\n",
    "\n",
    "    assert(response.reply.ack == 'Success')\n",
    "    assert(type(response.reply.timestamp) == datetime.datetime)\n",
    "    assert(type(response.reply.searchResult.item) == list)\n",
    "\n",
    "    item = response.reply.searchResult.item[0]\n",
    "    assert(type(item.listingInfo.endTime) == datetime.datetime)\n",
    "    assert(type(response.dict()) == dict)\n",
    "\n",
    "except ConnectionError as e:\n",
    "    print(e)\n",
    "    print(e.response.dict())"
   ]
  },
  {
   "cell_type": "code",
   "execution_count": null,
   "metadata": {},
   "outputs": [],
   "source": [
    "print(item)"
   ]
  }
 ],
 "metadata": {
  "kernelspec": {
   "display_name": "Python 3",
   "language": "python",
   "name": "python3"
  },
  "language_info": {
   "codemirror_mode": {
    "name": "ipython",
    "version": 3
   },
   "file_extension": ".py",
   "mimetype": "text/x-python",
   "name": "python",
   "nbconvert_exporter": "python",
   "pygments_lexer": "ipython3",
   "version": "3.5.4"
  }
 },
 "nbformat": 4,
 "nbformat_minor": 2
}
