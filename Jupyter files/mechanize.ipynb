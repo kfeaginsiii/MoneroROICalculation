{
 "cells": [
  {
   "cell_type": "code",
   "execution_count": 2,
   "metadata": {},
   "outputs": [
    {
     "name": "stdout",
     "output_type": "stream",
     "text": [
      "Collecting mechanize\n",
      "  Downloading mechanize-0.3.6.tar.gz (201kB)\n",
      "    Complete output from command python setup.py egg_info:\n",
      "    mechanize only works on python 2.x\n",
      "    \n",
      "    ----------------------------------------\n"
     ]
    },
    {
     "name": "stderr",
     "output_type": "stream",
     "text": [
      "Command \"python setup.py egg_info\" failed with error code 1 in C:\\Users\\Kenneth\\AppData\\Local\\Temp\\pip-build-wqjxn78s\\mechanize\\\n"
     ]
    }
   ],
   "source": [
    "#depreciated, forgot this is a python 2.x package. Will move over as time allows."
   ]
  },
  {
   "cell_type": "code",
   "execution_count": 1,
   "metadata": {},
   "outputs": [
    {
     "ename": "ImportError",
     "evalue": "No module named 'mechanize'",
     "output_type": "error",
     "traceback": [
      "\u001b[1;31m---------------------------------------------------------------------------\u001b[0m",
      "\u001b[1;31mImportError\u001b[0m                               Traceback (most recent call last)",
      "\u001b[1;32m<ipython-input-1-5111fa729cb3>\u001b[0m in \u001b[0;36m<module>\u001b[1;34m()\u001b[0m\n\u001b[1;32m----> 1\u001b[1;33m \u001b[1;32mimport\u001b[0m \u001b[0mmechanize\u001b[0m \u001b[1;32mas\u001b[0m \u001b[0mm\u001b[0m\u001b[1;33m\u001b[0m\u001b[0m\n\u001b[0m",
      "\u001b[1;31mImportError\u001b[0m: No module named 'mechanize'"
     ]
    }
   ],
   "source": [
    "import mechanize as m"
   ]
  },
  {
   "cell_type": "code",
   "execution_count": 2,
   "metadata": {},
   "outputs": [],
   "source": [
    "url = \"http://monerobenchmarks.info/list.php\"\n",
    "gpu_master_url = \"https://www.videocardbenchmark.net/gpu_list.php\""
   ]
  },
  {
   "cell_type": "code",
   "execution_count": null,
   "metadata": {},
   "outputs": [],
   "source": [
    "br = m.Browser()\n",
    "br.open(gpu_master_url)\n",
    "print(br.response().read())\n",
    "\n",
    "forms = [f for f in br.forms()]\n",
    "ctrl = forms[0].controls[0]\n",
    "#for selections in ctrl.get_items():\n",
    "#    ctrl.set(selections)\n",
    "#    print(br.response())\n",
    "ctrl = ctrl.get_items()[1]\n",
    "print(br.response().read())\n",
    "#ctrl.set_value_by_label(ctrl.get_items()[1])\n",
    "#br.select_form(nr = 0)\n",
    "#br.form['username'] = USERNAME"
   ]
  },
  {
   "cell_type": "code",
   "execution_count": 25,
   "metadata": {},
   "outputs": [
    {
     "name": "stdout",
     "output_type": "stream",
     "text": [
      "<!DOCTYPE HTML>\n",
      "<!-- List GPU Benchmarks and Hashrate for Monero Mining -->\n",
      "<!-- List CPU Benchmarks and Hashrate for Monero Mining -->\n",
      "<!--\n",
      "\tStrongly Typed by HTML5 UP\n",
      "\thtml5up.net | @ajlkn\n",
      "\tFree for personal and commercial use under the CCA 3.0 license (html5up.net/license)\n",
      "-->\n",
      "<!--\n",
      "Edited by herrdrone :-)\n",
      "-->\n",
      "<html>\n",
      "\t<head>\n",
      "\t\t<title>GPU & CPU BENCHMARKS FOR MONERO MINING!</title>\n",
      "\t\t<meta charset=\"utf-8\" />\n",
      "\t\t<meta name=\"viewport\" content=\"width=device-width, initial-scale=1\" />\n",
      "\t\t<!--[if lte IE 8]><script src=\"assets/js/ie/html5shiv.js\"></script><![endif]-->\n",
      "\t\t<link rel=\"stylesheet\" href=\"assets/css/main.css\" />\n",
      "\t\t<!--[if lte IE 8]><link rel=\"stylesheet\" href=\"assets/css/ie8.css\" /><![endif]-->\n",
      "                <link rel='shortcut icon' type='image/x-icon' href='favicon.ico' />\n",
      "\t</head>\t<!-- <body class=\"homepage\" ondragstart=\"return false\" onselectstart=\"return false\"> -->\n",
      "        <body class=\"homepage\" >\n",
      "\t\t<div id=\"page-wrapper\">\n",
      "\t\t\t<!-- Header -->\n",
      "\t\t\t\t<div id=\"header-wrapper\">\n",
      "\t\t\t\t\t<div id=\"header\" class=\"container\">\n",
      "\n",
      "\t\t\t\t\t\t<!-- Logo -->\n",
      "                                                <h1 id=\"logo\">SEARCH BENCHMARKS <br><br> FOR MONERO MINING!</h1>\n",
      "                                                <br />\n",
      "                                                <b>Tips:</b> 425uMjdim9w29jAR4zwTYZQvwkSPDdLV28Tob6mcrUREhri1f6Psxx54rtK6G1gJut3VAWhsYR5jeGJfYtpn7bzPARp5e3h\n",
      "                                                <br /><br />\n",
      "                                                <b>On this website&apos;s section you can list benchmarks by hashrate, gpu&apos;s brand & OS.</b>\n",
      "                                                <!-- Nav -->\n",
      "\t\t\t\t\t\t\t<nav id=\"nav\">\n",
      "\t\t\t\t\t\t\t\t<ul>\n",
      "\t\t\t\t\t\t\t\t\t<li><a class=\"icon fa-home\" href=\"index.php\"><span>Home</span></a></li>\n",
      "\t\t\t\t\t\t\t\t\t<li>\n",
      "\t\t\t\t\t\t\t\t\t\t<a href=\"#\" class=\"icon fa-cog\"><span>Benchmarks</span></a>\n",
      "\t\t\t\t\t\t\t\t\t\t<ul>\n",
      "\t\t\t\t\t\t\t\t\t\t\t<li><a href=\"submitCPU.php\">Submit CPU Benchmark</a></li>\n",
      "                                                                                        <li><a href=\"submitGPU.php\">Submit GPU Benchmark</a></li>\n",
      "\t\t\t\t\t\t\t\t\t\t\t<li><a href=\"list.php\">List Benchmarks</a></li>\n",
      "                                                                                        <li><a href=\"searchCPU.php\">Search CPU Benchmarks</a></li>\n",
      "                                                                                        <li><a href=\"searchGPU.php\">Search GPU Benchmarks</a></li>\n",
      "                                                                                        <li><a href=\"tools.php\">Tools</a></li>\n",
      "                                                                                        <li><a href=\"about.php\">About</a></li>\n",
      "\t\t\t\t\t\t\t\t\t\t</ul>\n",
      "\t\t\t\t\t\t\t\t\t</li>\n",
      "\t\t\t\t\t\t\t\t</ul>\n",
      "\t\t\t\t\t\t\t</nav>\n",
      "\n",
      "\t\t\t\t\t</div>\n",
      "\t\t\t\t</div>\t\t\t<!-- Main -->\n",
      "\t\t\t\t<div id=\"main-wrapper\">\n",
      "\t\t\t\t\t<div id=\"main\" class=\"container\">\n",
      "\t\t\t\t\t\t<!--<div class=\"row\">\n",
      "\t\t\t\t\t\t\t<!-- Content -->\n",
      "\t\t\t\t\t\t\t\t<div id=\"content\">\n",
      "\t\t\t\t\t\t\t\t\t<article class=\"\\-10u\" align=\"center\">\n",
      "\t\t\t\t\t\t\t\t\t\t\t<header>\n",
      "\t\t\t\t\t\t\t\t\t\t\t\t<h2><strong>LIST BENCHMARKS</strong></h2>\n",
      "\t\t\t\t\t\t\t\t\t\t\t</header>\n",
      "\t\t\t\t\t\t\t\t\t\t\t    <div class=\"\\-10u\\28tablet\\29\" align=\"center\">\n",
      "                                                                                                <section>\n",
      "                                                                                                    <form>\n",
      "                                                                                                        <select name=\"users\" onchange=\"showUser(this.value)\">\n",
      "                                                                                                          <option value=\"\">Select a list option</option>\n",
      "                                                                                                          <option value=\"1\">GPU Benchmarks by Hashrate (Highest to Lowest)</option>\n",
      "                                                                                                          <option value=\"2\">GPU Benchmarks by Hashrate (Lowest to Highest)</option>\n",
      "                                                                                                          <option value=\"3\">AMD Benchmarks GPU (Highest to Lowest)</option>\n",
      "                                                                                                          <option value=\"4\">AMD Benchmarks GPU (Lowest to Highest)</option>\n",
      "                                                                                                          <option value=\"15\">AMD Benchmarks GPU - RX 500 Series (Highest to Lowest)</option>\n",
      "                                                                                                          <option value=\"16\">AMD Benchmarks GPU - RX 500 Series (Lowest to Highest)</option>\n",
      "                                                                                                          <option value=\"21\">AMD Benchmarks GPU - RX VEGA (Highest to Lowest)</option>\n",
      "                                                                                                          <option value=\"22\">AMD Benchmarks GPU - RX VEGA Series (Lowest to Highest)</option>\n",
      "                                                                                                          <option value=\"5\">NVIDIA/EVGA GPU (Highest to Lowest)</option>\n",
      "                                                                                                          <option value=\"6\">NVIDIA/EVGA GPU (Lowest to Highest)</option>\n",
      "                                                                                                          <option value=\"24\">GPU Benchmarks by Date (Oldest to Newest)</option>\n",
      "                                                                                                          <option value=\"25\">GPU Benchmarks by Date (Newest to Oldest)</option>\n",
      "                                                                                                          <option value=\"7\">GPU Benchmarks by OS</option>\n",
      "                                                                                                          <option value=\"8\">CPU Benchmarks by Hashrate (Highest to Lowest)</option>\n",
      "                                                                                                          <option value=\"9\">CPU Benchmarks by Hashrate (Lowest to Highest)</option>\n",
      "                                                                                                          <option value=\"10\">Only AMD CPU Benchmarks (Highest to Lowest)</option>\n",
      "                                                                                                          <option value=\"11\">Only AMD CPU Benchmarks (Lowest to Highest)</option>\n",
      "                                                                                                          <option value=\"17\">Only AMD RYZEN Benchmarks (Highest to Lowest)</option>\n",
      "                                                                                                          <option value=\"18\">Only AMD RYZEN Benchmarks (Lowest to Highest)</option>\n",
      "                                                                                                          <option value=\"12\">Only Intel CPU Benchmarks (Highest to Lowest)</option>\n",
      "                                                                                                          <option value=\"13\">Only Intel CPU Benchmarks (Lowest to Highest)</option>\n",
      "                                                                                                          <option value=\"19\">Only Intel XEON CPU&apos;s Benchmarks (Highest to Lowest)</option>\n",
      "                                                                                                          <option value=\"20\">Only Intel XEON CPU&apos;s Benchmarks (Lowest to Highest)</option>\n",
      "                                                                                                          <option value=\"26\">CPU Benchmarks by Date (Oldest to Newest)</option>\n",
      "                                                                                                          <option value=\"27\">CPU Benchmarks by Date (Newest to Oldest)</option>\n",
      "                                                                                                          <option value=\"14\">CPU Benchmarks by OS</option>\n",
      "                                                                                                          <option value=\"23\">ARM Processors</option>\n",
      "                                                                                                        </select>\n",
      "                                                                                                    </form>\n",
      "                                                                                                    <br>\n",
      "                                                                                                    <div id=\"txtHint\"><b>Benchmarks will be listed here...</b></div>\n",
      "                                                                                                </section>\n",
      "                                                                                                \n",
      "                                                                                            </div>\n",
      "                                                                                        <br/>\n",
      "                                                                                        \n",
      "\t\t\t\t\t\t\t\t\t</article>\n",
      "                                                                </div>\n",
      "\t\t\t\t\t\t<!--</div> -->\n",
      "\t\t\t\t\t</div>\n",
      "\t\t\t\t</div>\n",
      "\t\t\t<!-- Footer -->\n",
      "\t\t\t\t<div id=\"footer-wrapper\">\n",
      "                                        <div id=\"copyright\" class=\"container\">\n",
      "\t\t\t\t\t\t<ul class=\"links\">\n",
      "                                                    <li>&copy; 2016-2018. All rights reserved.</li>\n",
      "\t\t\t\t\t\t</ul>\n",
      "\t\t\t\t\t</div>\n",
      "\t\t\t\t</div>\t\t\t</div>\n",
      "\t\t<!-- Scripts -->\n",
      "\t\t\t<script src=\"assets/js/jquery.min.js\"></script>\n",
      "\t\t\t<script src=\"assets/js/jquery.dropotron.min.js\"></script>\n",
      "\t\t\t<script src=\"assets/js/skel.min.js\"></script>\n",
      "\t\t\t<script src=\"assets/js/skel-viewport.min.js\"></script>\n",
      "\t\t\t<script src=\"assets/js/util.js\"></script>\n",
      "\t\t\t<!--[if lte IE 8]><script src=\"assets/js/ie/respond.min.js\"></script><![endif]-->\n",
      "\t\t\t<script src=\"assets/js/s.js\"></script>\n",
      "                        <script src=\"assets/js/main.js\"></script>\n",
      "                        <!-- <script language=JavaScript> var message=\"Function Disabled!\"; function clickIE4(){ if (event.button==2){ return false; } } function clickNS4(e){ if (document.layers||document.getElementById&&!document.all){ if (e.which==2||e.which==3){ return false; } } } if (document.layers){ document.captureEvents(Event.MOUSEDOWN); document.onmousedown=clickNS4; } else if (document.all&&!document.getElementById){ document.onmousedown=clickIE4; } document.oncontextmenu=new Function(\"return false\") </script> -->\n",
      "\t</body>\n",
      "</html>\t\t\t\t\t\n"
     ]
    }
   ],
   "source": [
    "br = m.Browser()\n",
    "br.open(url)\n",
    "forms = [f for f in br.forms()]\n",
    "ctrl = forms[0].controls[0]\n",
    "#for selections in ctrl.get_items():\n",
    "#    ctrl.set(selections)\n",
    "#    print(br.response())\n",
    "ctrl = ctrl.get_items()[1]\n",
    "print(br.response().read())\n",
    "#ctrl.set_value_by_label(ctrl.get_items()[1])\n",
    "#br.select_form(nr = 0)\n",
    "#br.form['username'] = USERNAME"
   ]
  },
  {
   "cell_type": "code",
   "execution_count": 26,
   "metadata": {},
   "outputs": [
    {
     "data": {
      "text/plain": [
       "['BLOCK_SIZE',\n",
       " '__copy__',\n",
       " '__doc__',\n",
       " '__getattr__',\n",
       " '__init__',\n",
       " '__module__',\n",
       " '__str__',\n",
       " '_add_referer_header',\n",
       " '_any_request',\n",
       " '_any_response',\n",
       " '_call_chain',\n",
       " '_client_cert_manager',\n",
       " '_copy_state',\n",
       " '_factory',\n",
       " '_filter_links',\n",
       " '_handle_referer',\n",
       " '_handler_index_valid',\n",
       " '_history',\n",
       " '_maybe_reindex_handlers',\n",
       " '_mech_open',\n",
       " '_open',\n",
       " '_password_manager',\n",
       " '_proxy_password_manager',\n",
       " '_replace_handler',\n",
       " '_request',\n",
       " '_response',\n",
       " '_set_handler',\n",
       " '_set_response',\n",
       " '_tempfiles',\n",
       " '_ua_handlers',\n",
       " '_visit_request',\n",
       " 'add_client_certificate',\n",
       " 'add_handler',\n",
       " 'add_password',\n",
       " 'add_proxy_password',\n",
       " 'addheaders',\n",
       " 'back',\n",
       " 'clear_history',\n",
       " 'click',\n",
       " 'click_link',\n",
       " 'close',\n",
       " 'cookiejar',\n",
       " 'default_features',\n",
       " 'default_others',\n",
       " 'default_schemes',\n",
       " 'encoding',\n",
       " 'error',\n",
       " 'find_link',\n",
       " 'follow_link',\n",
       " 'form',\n",
       " 'forms',\n",
       " 'geturl',\n",
       " 'global_form',\n",
       " 'handle_error',\n",
       " 'handle_open',\n",
       " 'handler_classes',\n",
       " 'handlers',\n",
       " 'handlers_by_class',\n",
       " 'links',\n",
       " 'open',\n",
       " 'open_local_file',\n",
       " 'open_novisit',\n",
       " 'process_request',\n",
       " 'process_response',\n",
       " 'reload',\n",
       " 'request',\n",
       " 'request_class',\n",
       " 'response',\n",
       " 'retrieve',\n",
       " 'select_form',\n",
       " 'set_ca_data',\n",
       " 'set_client_cert_manager',\n",
       " 'set_cookie',\n",
       " 'set_cookiejar',\n",
       " 'set_debug_http',\n",
       " 'set_debug_redirects',\n",
       " 'set_debug_responses',\n",
       " 'set_handle_equiv',\n",
       " 'set_handle_gzip',\n",
       " 'set_handle_redirect',\n",
       " 'set_handle_referer',\n",
       " 'set_handle_refresh',\n",
       " 'set_handle_robots',\n",
       " 'set_handled_schemes',\n",
       " 'set_header',\n",
       " 'set_password_manager',\n",
       " 'set_proxies',\n",
       " 'set_proxy_password_manager',\n",
       " 'set_request_gzip',\n",
       " 'set_response',\n",
       " 'set_simple_cookie',\n",
       " 'submit',\n",
       " 'title',\n",
       " 'viewing_html',\n",
       " 'visit_response']"
      ]
     },
     "execution_count": 26,
     "metadata": {},
     "output_type": "execute_result"
    }
   ],
   "source": [
    "dir(br)#.dir()"
   ]
  },
  {
   "cell_type": "code",
   "execution_count": 22,
   "metadata": {},
   "outputs": [],
   "source": [
    "response = br.response()  # this is a copy of response\n",
    "headers = response.info()  # currently, this is a mimetools.Message\n",
    "headers[\"Content-type\"] = \"text/html; charset=utf-8\"\n",
    "response.set_data(response.get_data().replace(\"<!---\", \"<!--\"))\n",
    "br.set_response(response)"
   ]
  },
  {
   "cell_type": "code",
   "execution_count": null,
   "metadata": {},
   "outputs": [],
   "source": [
    "#import mechanize\n",
    "response = m.urlopen(url)\n",
    "#print(response.read())\n",
    "#print(response.info())  # headers\n",
    "#print(response.read())  # body\n"
   ]
  },
  {
   "cell_type": "code",
   "execution_count": 23,
   "metadata": {},
   "outputs": [
    {
     "name": "stdout",
     "output_type": "stream",
     "text": [
      "GPU & CPU BENCHMARKS FOR MONERO MINING!\n"
     ]
    },
    {
     "ename": "NameError",
     "evalue": "name 'response1' is not defined",
     "output_type": "error",
     "traceback": [
      "\u001b[1;31m\u001b[0m",
      "\u001b[1;31mNameError\u001b[0mTraceback (most recent call last)",
      "\u001b[1;32m<ipython-input-23-2b97aba2705a>\u001b[0m in \u001b[0;36m<module>\u001b[1;34m()\u001b[0m\n\u001b[0;32m      1\u001b[0m \u001b[1;32mprint\u001b[0m\u001b[1;33m(\u001b[0m\u001b[0mbr\u001b[0m\u001b[1;33m.\u001b[0m\u001b[0mtitle\u001b[0m\u001b[1;33m(\u001b[0m\u001b[1;33m)\u001b[0m\u001b[1;33m)\u001b[0m\u001b[1;33m\u001b[0m\u001b[0m\n\u001b[1;32m----> 2\u001b[1;33m \u001b[1;32mprint\u001b[0m\u001b[1;33m(\u001b[0m\u001b[0mresponse1\u001b[0m\u001b[1;33m.\u001b[0m\u001b[0mgeturl\u001b[0m\u001b[1;33m(\u001b[0m\u001b[1;33m)\u001b[0m\u001b[1;33m)\u001b[0m\u001b[1;33m\u001b[0m\u001b[0m\n\u001b[0m\u001b[0;32m      3\u001b[0m \u001b[1;32mprint\u001b[0m\u001b[1;33m(\u001b[0m\u001b[0mresponse1\u001b[0m\u001b[1;33m.\u001b[0m\u001b[0minfo\u001b[0m\u001b[1;33m(\u001b[0m\u001b[1;33m)\u001b[0m\u001b[1;33m)\u001b[0m  \u001b[1;31m# headers\u001b[0m\u001b[1;33m\u001b[0m\u001b[0m\n\u001b[0;32m      4\u001b[0m \u001b[1;32mprint\u001b[0m\u001b[1;33m(\u001b[0m\u001b[0mresponse1\u001b[0m\u001b[1;33m.\u001b[0m\u001b[0mread\u001b[0m\u001b[1;33m(\u001b[0m\u001b[1;33m)\u001b[0m\u001b[1;33m)\u001b[0m  \u001b[1;31m# body\u001b[0m\u001b[1;33m\u001b[0m\u001b[0m\n",
      "\u001b[1;31mNameError\u001b[0m: name 'response1' is not defined"
     ]
    }
   ],
   "source": [
    "print(br.title())\n",
    "print(response1.geturl())\n",
    "print(response1.info())  # headers\n",
    "print(response1.read())  # body"
   ]
  },
  {
   "cell_type": "code",
   "execution_count": null,
   "metadata": {},
   "outputs": [],
   "source": []
  }
 ],
 "metadata": {
  "kernelspec": {
   "display_name": "Python 3",
   "language": "python",
   "name": "python3"
  },
  "language_info": {
   "codemirror_mode": {
    "name": "ipython",
    "version": 3
   },
   "file_extension": ".py",
   "mimetype": "text/x-python",
   "name": "python",
   "nbconvert_exporter": "python",
   "pygments_lexer": "ipython3",
   "version": "3.5.4"
  }
 },
 "nbformat": 4,
 "nbformat_minor": 2
}
