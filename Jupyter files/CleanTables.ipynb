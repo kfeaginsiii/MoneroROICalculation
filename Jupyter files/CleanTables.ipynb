{
 "cells": [
  {
   "cell_type": "code",
   "execution_count": null,
   "metadata": {},
   "outputs": [],
   "source": [
    "import bs4 as bs\n",
    "import pandas as pd"
   ]
  },
  {
   "cell_type": "code",
   "execution_count": null,
   "metadata": {},
   "outputs": [],
   "source": [
    "page = open(\"C:\\\\Users\\\\Kenneth\\\\Desktop\\\\Monero Project\\\\GPU_Numbers.html\")"
   ]
  },
  {
   "cell_type": "code",
   "execution_count": null,
   "metadata": {},
   "outputs": [],
   "source": [
    "def table_to_df(table):\n",
    "    headers = []\n",
    "    for tr in table.find_all('tr')[:1]:\n",
    "        tds = tr.find_all('td')\n",
    "        for col in range(7):\n",
    "            headers.append(tds[col].text)\n",
    "    df = pd.DataFrame(columns = headers)\n",
    "    #data\n",
    "    temp = {}\n",
    "    for tr in table.find_all('tr')[2:]:\n",
    "        tds = tr.find_all('td')\n",
    "        for col in range(7):\n",
    "            temp[headers[col]] = tds[col].text\n",
    "        df = df.append(temp, ignore_index = True)\n",
    "        #print(temp)\n",
    "    return df"
   ]
  },
  {
   "cell_type": "code",
   "execution_count": null,
   "metadata": {},
   "outputs": [],
   "source": [
    "soup = bs.BeautifulSoup(page,  \"html.parser\")\n",
    "\n",
    "table = soup.find(\"table\")\n",
    "thing = table_to_df(table)\n",
    "print(thing.info())"
   ]
  },
  {
   "cell_type": "code",
   "execution_count": null,
   "metadata": {},
   "outputs": [],
   "source": [
    "thing=thing.replace({' H/s':''},regex=True)"
   ]
  },
  {
   "cell_type": "code",
   "execution_count": null,
   "metadata": {},
   "outputs": [],
   "source": [
    "print(thing)"
   ]
  },
  {
   "cell_type": "code",
   "execution_count": null,
   "metadata": {},
   "outputs": [],
   "source": [
    "dir(df)"
   ]
  },
  {
   "cell_type": "code",
   "execution_count": null,
   "metadata": {},
   "outputs": [],
   "source": []
  }
 ],
 "metadata": {
  "kernelspec": {
   "display_name": "Python 3",
   "language": "python",
   "name": "python3"
  },
  "language_info": {
   "codemirror_mode": {
    "name": "ipython",
    "version": 3
   },
   "file_extension": ".py",
   "mimetype": "text/x-python",
   "name": "python",
   "nbconvert_exporter": "python",
   "pygments_lexer": "ipython3",
   "version": "3.5.4"
  }
 },
 "nbformat": 4,
 "nbformat_minor": 2
}
