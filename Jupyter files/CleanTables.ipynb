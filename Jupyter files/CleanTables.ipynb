{
 "cells": [
  {
   "cell_type": "code",
   "execution_count": null,
   "metadata": {},
   "outputs": [],
   "source": [
    "import bs4 as bs\n",
    "import pandas as pd\n",
    "#import numpy as np\n",
    "# do something like %run notebook.ipynb to call the other notebooks."
   ]
  },
  {
   "cell_type": "code",
   "execution_count": null,
   "metadata": {},
   "outputs": [],
   "source": [
    "def html_to_table(html_file):\n",
    "    soup = bs.BeautifulSoup(page,  \"html.parser\")\n",
    "    return soup.find(\"table\")\n",
    "    del soup"
   ]
  },
  {
   "cell_type": "code",
   "execution_count": null,
   "metadata": {},
   "outputs": [],
   "source": [
    "def table_to_df(table):\n",
    "    headers = []\n",
    "    for tr in table.find_all('tr')[:1]:\n",
    "        tds = tr.find_all('td')\n",
    "        for col in range(7):\n",
    "            headers.append(tds[col].text)\n",
    "    temp_df = pd.DataFrame(columns = headers)\n",
    "    #data\n",
    "    temp = {}\n",
    "    for tr in table.find_all('tr')[2:]:\n",
    "        tds = tr.find_all('td')\n",
    "        for col in range(7):\n",
    "            temp[headers[col]] = tds[col].text\n",
    "        temp_df = temp_df.append(temp, ignore_index = True)\n",
    "        #print(temp)\n",
    "    return temp_df    "
   ]
  },
  {
   "cell_type": "markdown",
   "metadata": {},
   "source": [
    "Currently, manually pulling the table off of http://monerobenchmarks.info/list.php \n",
    "<br> need to automate this process and possibly find other sources"
   ]
  },
  {
   "cell_type": "code",
   "execution_count": null,
   "metadata": {},
   "outputs": [],
   "source": [
    "page = open('Data files//GPU_Numbers.html')\n",
    "#page = open('Data files//CPU_Numbers.html') #for cpu numbers, columns are different"
   ]
  },
  {
   "cell_type": "code",
   "execution_count": null,
   "metadata": {},
   "outputs": [],
   "source": [
    "def clean_dataframe(df_dirty):\n",
    "    df_dirty=df_dirty.replace({' H/s':''},regex=True) #clear units from the H/s column\n",
    "    df_dirty['H/s'] = pd.to_numeric(df_dirty['H/s'], downcast='unsigned') #convert H/s to unsigned numeric\n",
    "    #df_dirty['H/s'] = df_dirty['H/s'].apply(pd.to_numeric, errors='coerce') \n",
    "    if 'GPU MODEL' in df.columns:\n",
    "        #remove space in '8 x' to make it 8x\n",
    "        pat = r\"(\\d\\s+X)\"\n",
    "        repl = lambda m: m.group(0).replace(' ','')\n",
    "        df_dirty['GPU MODEL'] = df_dirty['GPU MODEL'].str.replace(pat, repl)\n",
    "        #handle non-homongenous systems by splitting them into separate columns, dynamically, then merge with original set\n",
    "        df_dirty2 = df_dirty['GPU MODEL'].str.split(\" \\+ |,  | \\/ \", expand=True)\n",
    "        df_dirty2.columns = ['GPU MODEL '+str(x) for x in list(df_dirty2)]\n",
    "        #find the quantities of each card in the system\n",
    "        for col in list(df_dirty2):\n",
    "            df_dirty2[col+\" qty\"] = df_dirty2[col].str.extract(\"(\\d+X)\").str.extract(\"(\\d+)\")\n",
    "        df_dirty = pd.merge(df_dirty, df_dirty2, right_index=True, left_index=True)\n",
    "        #for col in gpu_model_cols:\n",
    "            #df_dirty[col+\" qty\"] = df_dirty[col].str.extract(\"(\\d+X)\").str.extract(\"(\\d+)\") #find the quantities\n",
    "         #   test=1\n",
    "    if 'VRAM' in df.columns:\n",
    "        test=2\n",
    "    return df_dirty"
   ]
  },
  {
   "cell_type": "code",
   "execution_count": null,
   "metadata": {},
   "outputs": [],
   "source": [
    "df = table_to_df(html_to_table(page))\n"
   ]
  },
  {
   "cell_type": "code",
   "execution_count": null,
   "metadata": {
    "scrolled": true
   },
   "outputs": [],
   "source": [
    "df2 = clean_dataframe(df)\n",
    "print(df2['GPU MODEL 0 qty'].unique())\n",
    "#print(df2.info())\n",
    "#print(df2.loc[[8]])"
   ]
  },
  {
   "cell_type": "code",
   "execution_count": null,
   "metadata": {},
   "outputs": [],
   "source": [
    "print(list(df2))\n",
    "print(['GPU MODEL '+str(x) for x in list(df2)])"
   ]
  },
  {
   "cell_type": "code",
   "execution_count": null,
   "metadata": {},
   "outputs": [],
   "source": [
    "%whos\n",
    "#jupyter nbextension enable varInspector/main"
   ]
  },
  {
   "cell_type": "code",
   "execution_count": null,
   "metadata": {},
   "outputs": [],
   "source": [
    "\n",
    "#df2['GPU MODEL'].str.extract(\"(\\d+X)\").str.extract(\"(\\d+)\") #find the quantities\n",
    "#df['diff_A_B']\n",
    "#df2.b.str.contains('^X')\n",
    "\n",
    "#print(df2)\n",
    "#print(df2, headers='keys', tablefmt='psql')"
   ]
  },
  {
   "cell_type": "code",
   "execution_count": null,
   "metadata": {},
   "outputs": [],
   "source": [
    "print(df2)\n"
   ]
  },
  {
   "cell_type": "code",
   "execution_count": null,
   "metadata": {},
   "outputs": [],
   "source": [
    "\n",
    "df2.to_csv('Data files\\GPUExport.csv')"
   ]
  },
  {
   "cell_type": "code",
   "execution_count": null,
   "metadata": {},
   "outputs": [],
   "source": [
    "df.info()\n",
    "df2.info()"
   ]
  },
  {
   "cell_type": "code",
   "execution_count": null,
   "metadata": {},
   "outputs": [],
   "source": [
    "print(df2)"
   ]
  },
  {
   "cell_type": "code",
   "execution_count": null,
   "metadata": {},
   "outputs": [],
   "source": [
    "dir(df2)"
   ]
  },
  {
   "cell_type": "code",
   "execution_count": null,
   "metadata": {},
   "outputs": [],
   "source": [
    "!pip install --upgrade pandas"
   ]
  },
  {
   "cell_type": "code",
   "execution_count": null,
   "metadata": {},
   "outputs": [],
   "source": [
    "!pip list"
   ]
  },
  {
   "cell_type": "code",
   "execution_count": null,
   "metadata": {},
   "outputs": [],
   "source": []
  }
 ],
 "metadata": {
  "kernelspec": {
   "display_name": "Python 3",
   "language": "python",
   "name": "python3"
  },
  "language_info": {
   "codemirror_mode": {
    "name": "ipython",
    "version": 3
   },
   "file_extension": ".py",
   "mimetype": "text/x-python",
   "name": "python",
   "nbconvert_exporter": "python",
   "pygments_lexer": "ipython3",
   "version": "3.5.4"
  }
 },
 "nbformat": 4,
 "nbformat_minor": 2
}
